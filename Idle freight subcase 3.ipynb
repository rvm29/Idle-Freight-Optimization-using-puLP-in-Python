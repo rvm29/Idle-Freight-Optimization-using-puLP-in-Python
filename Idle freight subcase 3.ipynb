{
 "cells": [
  {
   "cell_type": "code",
   "execution_count": 1,
   "metadata": {},
   "outputs": [],
   "source": [
    "# Import the necessary libraries\n",
    "import pulp as p\n",
    "from pulp import *\n",
    "import pandas as pd\n",
    "import numpy as np\n",
    "import matplotlib.pyplot as plt"
   ]
  },
  {
   "cell_type": "code",
   "execution_count": 26,
   "metadata": {},
   "outputs": [],
   "source": [
    "# Create the LP Maximization Problem\n",
    "Lp_prob=LpProblem('Idle Freight Problem',LpMaximize)"
   ]
  },
  {
   "cell_type": "code",
   "execution_count": 3,
   "metadata": {},
   "outputs": [],
   "source": [
    "# Create the Decision Variables\n",
    "x1=LpVariable('x1',lowBound = 0,upBound = 10,cat='Integer')\n",
    "x2=LpVariable('x2',lowBound = 0,upBound = 9,cat='Integer')\n",
    "x3=LpVariable('x3',lowBound = 0,upBound = 8,cat='Integer')\n",
    "x4=LpVariable('x4',lowBound = 0,upBound = 7,cat='Integer')\n",
    "x5=LpVariable('x5',lowBound = 0,upBound = 6,cat='Integer')\n",
    "\n",
    "# Create cumulative idle freight variable\n",
    "cumulative_idlefr=0\n",
    "count=0"
   ]
  },
  {
   "cell_type": "code",
   "execution_count": 4,
   "metadata": {},
   "outputs": [],
   "source": [
    "# Objective Function\n",
    "Lp_prob += 20*x1 + 21*x2 + 22*x3 + 23*x4 + 24*x5"
   ]
  },
  {
   "cell_type": "code",
   "execution_count": 5,
   "metadata": {},
   "outputs": [],
   "source": [
    "# Constraints \n",
    "Lp_prob += 20*x1 + 21*x2 + 22*x3 + 23*x4 + 24*x5 <=66"
   ]
  },
  {
   "cell_type": "code",
   "execution_count": 6,
   "metadata": {},
   "outputs": [
    {
     "name": "stdout",
     "output_type": "stream",
     "text": [
      "Idle_Freight_Problem:\n",
      "MAXIMIZE\n",
      "20*x1 + 21*x2 + 22*x3 + 23*x4 + 24*x5 + 0\n",
      "SUBJECT TO\n",
      "_C1: 20 x1 + 21 x2 + 22 x3 + 23 x4 + 24 x5 <= 66\n",
      "\n",
      "VARIABLES\n",
      "0 <= x1 <= 10 Integer\n",
      "0 <= x2 <= 9 Integer\n",
      "0 <= x3 <= 8 Integer\n",
      "0 <= x4 <= 7 Integer\n",
      "0 <= x5 <= 6 Integer\n",
      "\n"
     ]
    }
   ],
   "source": [
    "# Display the formulated Problem\n",
    "print(Lp_prob)"
   ]
  },
  {
   "cell_type": "code",
   "execution_count": 7,
   "metadata": {},
   "outputs": [],
   "source": [
    "# Try and find acceptable solution values\n",
    "status = Lp_prob.solve()"
   ]
  },
  {
   "cell_type": "code",
   "execution_count": 8,
   "metadata": {},
   "outputs": [
    {
     "name": "stdout",
     "output_type": "stream",
     "text": [
      "Optimal\n"
     ]
    }
   ],
   "source": [
    "# Check status \n",
    "print(LpStatus[status])"
   ]
  },
  {
   "cell_type": "code",
   "execution_count": 9,
   "metadata": {},
   "outputs": [
    {
     "name": "stdout",
     "output_type": "stream",
     "text": [
      "1.0 0.0 0.0 2.0 0.0 66.0\n",
      "Idle freight value in this case =  0.0\n",
      "Cumulative idle freight till now =  0.0\n"
     ]
    }
   ],
   "source": [
    "# Display solution values\n",
    "print(value(x1),value(x2),value(x3),value(x4),value(x5),value(Lp_prob.objective))\n",
    "idle_fr = (66-value(Lp_prob.objective))\n",
    "print('Idle freight value in this case = ',idle_fr)\n",
    "cumulative_idlefr = cumulative_idlefr + idle_fr\n",
    "print('Cumulative idle freight till now = ',cumulative_idlefr)\n",
    "count=count+1"
   ]
  },
  {
   "cell_type": "code",
   "execution_count": 10,
   "metadata": {},
   "outputs": [
    {
     "name": "stdout",
     "output_type": "stream",
     "text": [
      "Idle_Freight_Problem:\n",
      "MAXIMIZE\n",
      "20*x1 + 21*x2 + 22*x3 + 23*x4 + 24*x5 + 0\n",
      "SUBJECT TO\n",
      "_C1: 20 x1 + 21 x2 + 22 x3 + 23 x4 + 24 x5 <= 66\n",
      "\n",
      "VARIABLES\n",
      "0 <= x1 <= 9 Integer\n",
      "0 <= x2 <= 9 Integer\n",
      "0 <= x3 <= 8 Integer\n",
      "0 <= x4 <= 5 Integer\n",
      "0 <= x5 <= 6 Integer\n",
      "\n",
      "Optimal\n",
      "1.0 0.0 0.0 2.0 0.0 66.0\n",
      "Idle freight value in this case =  0.0\n",
      "Cumulative idle freight till now =  0.0\n"
     ]
    }
   ],
   "source": [
    "# Iterate the above process and get optimal solutions for each time\n",
    "nCoils = [x1,x2,x3,x4,x5]\n",
    "for i in nCoils:\n",
    "    i.upBound=i.upBound - value(i)\n",
    "print(Lp_prob)\n",
    "\n",
    "\n",
    "status = Lp_prob.solve()\n",
    "count=count+1\n",
    "print(LpStatus[status])\n",
    "print(value(x1),value(x2),value(x3),value(x4),value(x5),value(Lp_prob.objective))\n",
    "idle_fr = (66-value(Lp_prob.objective))\n",
    "print('Idle freight value in this case = ',idle_fr)\n",
    "cumulative_idlefr = cumulative_idlefr + idle_fr\n",
    "print('Cumulative idle freight till now = ',cumulative_idlefr)"
   ]
  },
  {
   "cell_type": "code",
   "execution_count": 11,
   "metadata": {},
   "outputs": [
    {
     "name": "stdout",
     "output_type": "stream",
     "text": [
      "Idle_Freight_Problem:\n",
      "MAXIMIZE\n",
      "20*x1 + 21*x2 + 22*x3 + 23*x4 + 24*x5 + 0\n",
      "SUBJECT TO\n",
      "_C1: 20 x1 + 21 x2 + 22 x3 + 23 x4 + 24 x5 <= 66\n",
      "\n",
      "VARIABLES\n",
      "0 <= x1 <= 8 Integer\n",
      "0 <= x2 <= 9 Integer\n",
      "0 <= x3 <= 8 Integer\n",
      "0 <= x4 <= 3 Integer\n",
      "0 <= x5 <= 6 Integer\n",
      "\n",
      "Optimal\n",
      "1.0 0.0 0.0 2.0 0.0 66.0\n",
      "Idle freight value in this case =  3.0\n",
      "Cumulative idle freight till now =  3.0\n"
     ]
    }
   ],
   "source": [
    "# Iterate the above process and get optimal solutions for each time\n",
    "nCoils = [x1,x2,x3,x4,x5]\n",
    "for i in nCoils:\n",
    "    i.upBound=i.upBound - value(i)\n",
    "print(Lp_prob)\n",
    "\n",
    "\n",
    "status = Lp_prob.solve()\n",
    "count=count+1\n",
    "print(LpStatus[status])\n",
    "print(value(x1),value(x2),value(x3),value(x4),value(x5),value(Lp_prob.objective))\n",
    "idle_fr = (69-value(Lp_prob.objective))\n",
    "print('Idle freight value in this case = ',idle_fr)\n",
    "cumulative_idlefr = cumulative_idlefr + idle_fr\n",
    "print('Cumulative idle freight till now = ',cumulative_idlefr)"
   ]
  },
  {
   "cell_type": "code",
   "execution_count": 12,
   "metadata": {},
   "outputs": [
    {
     "name": "stdout",
     "output_type": "stream",
     "text": [
      "Idle_Freight_Problem:\n",
      "MAXIMIZE\n",
      "20*x1 + 21*x2 + 22*x3 + 23*x4 + 24*x5 + 0\n",
      "SUBJECT TO\n",
      "_C1: 20 x1 + 21 x2 + 22 x3 + 23 x4 + 24 x5 <= 66\n",
      "\n",
      "VARIABLES\n",
      "0 <= x1 <= 7 Integer\n",
      "0 <= x2 <= 9 Integer\n",
      "0 <= x3 <= 8 Integer\n",
      "0 <= x4 <= 1 Integer\n",
      "0 <= x5 <= 6 Integer\n",
      "\n",
      "Optimal\n",
      "0.0 0.0 3.0 0.0 0.0 66.0\n",
      "Idle freight value in this case =  3.0\n",
      "Cumulative idle freight till now =  6.0\n"
     ]
    }
   ],
   "source": [
    "# Iterate the above process and get optimal solutions for each time\n",
    "nCoils = [x1,x2,x3,x4,x5]\n",
    "for i in nCoils:\n",
    "    i.upBound=i.upBound - value(i)\n",
    "print(Lp_prob)\n",
    "\n",
    "\n",
    "status = Lp_prob.solve()\n",
    "count=count+1\n",
    "print(LpStatus[status])\n",
    "print(value(x1),value(x2),value(x3),value(x4),value(x5),value(Lp_prob.objective))\n",
    "idle_fr = (69-value(Lp_prob.objective))\n",
    "print('Idle freight value in this case = ',idle_fr)\n",
    "cumulative_idlefr = cumulative_idlefr + idle_fr\n",
    "print('Cumulative idle freight till now = ',cumulative_idlefr)"
   ]
  },
  {
   "cell_type": "code",
   "execution_count": 13,
   "metadata": {},
   "outputs": [
    {
     "name": "stdout",
     "output_type": "stream",
     "text": [
      "Idle_Freight_Problem:\n",
      "MAXIMIZE\n",
      "20*x1 + 21*x2 + 22*x3 + 23*x4 + 24*x5 + 0\n",
      "SUBJECT TO\n",
      "_C1: 20 x1 + 21 x2 + 22 x3 + 23 x4 + 24 x5 <= 66\n",
      "\n",
      "VARIABLES\n",
      "0 <= x1 <= 7 Integer\n",
      "0 <= x2 <= 9 Integer\n",
      "0 <= x3 <= 5 Integer\n",
      "0 <= x4 <= 1 Integer\n",
      "0 <= x5 <= 6 Integer\n",
      "\n",
      "Optimal\n",
      "0.0 0.0 3.0 0.0 0.0 66.0\n",
      "Idle freight value in this case =  3.0\n",
      "Cumulative idle freight till now =  9.0\n"
     ]
    }
   ],
   "source": [
    "# Iterate the above process and get optimal solutions for each time\n",
    "nCoils = [x1,x2,x3,x4,x5]\n",
    "for i in nCoils:\n",
    "    i.upBound=i.upBound - value(i)\n",
    "print(Lp_prob)\n",
    "\n",
    "\n",
    "status = Lp_prob.solve()\n",
    "count=count+1\n",
    "print(LpStatus[status])\n",
    "print(value(x1),value(x2),value(x3),value(x4),value(x5),value(Lp_prob.objective))\n",
    "idle_fr = (69-value(Lp_prob.objective))\n",
    "print('Idle freight value in this case = ',idle_fr)\n",
    "cumulative_idlefr = cumulative_idlefr + idle_fr\n",
    "print('Cumulative idle freight till now = ',cumulative_idlefr)"
   ]
  },
  {
   "cell_type": "code",
   "execution_count": 14,
   "metadata": {},
   "outputs": [
    {
     "name": "stdout",
     "output_type": "stream",
     "text": [
      "Idle_Freight_Problem:\n",
      "MAXIMIZE\n",
      "20*x1 + 21*x2 + 22*x3 + 23*x4 + 24*x5 + 0\n",
      "SUBJECT TO\n",
      "_C1: 20 x1 + 21 x2 + 22 x3 + 23 x4 + 24 x5 <= 66\n",
      "\n",
      "VARIABLES\n",
      "0 <= x1 <= 7 Integer\n",
      "0 <= x2 <= 9 Integer\n",
      "0 <= x3 <= 2 Integer\n",
      "0 <= x4 <= 1 Integer\n",
      "0 <= x5 <= 6 Integer\n",
      "\n",
      "Optimal\n",
      "0.0 2.0 0.0 0.0 1.0 66.0\n",
      "Idle freight value in this case =  3.0\n",
      "Cumulative idle freight till now =  12.0\n"
     ]
    }
   ],
   "source": [
    "# Iterate the above process and get optimal solutions for each time\n",
    "nCoils = [x1,x2,x3,x4,x5]\n",
    "for i in nCoils:\n",
    "    i.upBound=i.upBound - value(i)\n",
    "print(Lp_prob)\n",
    "\n",
    "\n",
    "status = Lp_prob.solve()\n",
    "count=count+1\n",
    "print(LpStatus[status])\n",
    "print(value(x1),value(x2),value(x3),value(x4),value(x5),value(Lp_prob.objective))\n",
    "idle_fr = (69-value(Lp_prob.objective))\n",
    "print('Idle freight value in this case = ',idle_fr)\n",
    "cumulative_idlefr = cumulative_idlefr + idle_fr\n",
    "print('Cumulative idle freight till now = ',cumulative_idlefr)"
   ]
  },
  {
   "cell_type": "code",
   "execution_count": 15,
   "metadata": {},
   "outputs": [
    {
     "name": "stdout",
     "output_type": "stream",
     "text": [
      "Idle_Freight_Problem:\n",
      "MAXIMIZE\n",
      "20*x1 + 21*x2 + 22*x3 + 23*x4 + 24*x5 + 0\n",
      "SUBJECT TO\n",
      "_C1: 20 x1 + 21 x2 + 22 x3 + 23 x4 + 24 x5 <= 66\n",
      "\n",
      "VARIABLES\n",
      "0 <= x1 <= 7 Integer\n",
      "0 <= x2 <= 7 Integer\n",
      "0 <= x3 <= 2 Integer\n",
      "0 <= x4 <= 1 Integer\n",
      "0 <= x5 <= 5 Integer\n",
      "\n",
      "Optimal\n",
      "0.0 2.0 0.0 0.0 1.0 66.0\n",
      "Idle freight value in this case =  3.0\n",
      "Cumulative idle freight till now =  15.0\n"
     ]
    }
   ],
   "source": [
    "# Iterate the above process and get optimal solutions for each time\n",
    "nCoils = [x1,x2,x3,x4,x5]\n",
    "for i in nCoils:\n",
    "    i.upBound=i.upBound - value(i)\n",
    "print(Lp_prob)\n",
    "\n",
    "\n",
    "status = Lp_prob.solve()\n",
    "count=count+1\n",
    "print(LpStatus[status])\n",
    "print(value(x1),value(x2),value(x3),value(x4),value(x5),value(Lp_prob.objective))\n",
    "idle_fr = (69-value(Lp_prob.objective))\n",
    "print('Idle freight value in this case = ',idle_fr)\n",
    "cumulative_idlefr = cumulative_idlefr + idle_fr\n",
    "print('Cumulative idle freight till now = ',cumulative_idlefr)"
   ]
  },
  {
   "cell_type": "code",
   "execution_count": 16,
   "metadata": {},
   "outputs": [
    {
     "name": "stdout",
     "output_type": "stream",
     "text": [
      "Idle_Freight_Problem:\n",
      "MAXIMIZE\n",
      "20*x1 + 21*x2 + 22*x3 + 23*x4 + 24*x5 + 0\n",
      "SUBJECT TO\n",
      "_C1: 20 x1 + 21 x2 + 22 x3 + 23 x4 + 24 x5 <= 66\n",
      "\n",
      "VARIABLES\n",
      "0 <= x1 <= 7 Integer\n",
      "0 <= x2 <= 5 Integer\n",
      "0 <= x3 <= 2 Integer\n",
      "0 <= x4 <= 1 Integer\n",
      "0 <= x5 <= 4 Integer\n",
      "\n",
      "Optimal\n",
      "0.0 2.0 0.0 0.0 1.0 66.0\n",
      "Idle freight value in this case =  3.0\n",
      "Cumulative idle freight till now =  18.0\n"
     ]
    }
   ],
   "source": [
    "# Iterate the above process and get optimal solutions for each time\n",
    "nCoils = [x1,x2,x3,x4,x5]\n",
    "for i in nCoils:\n",
    "    i.upBound=i.upBound - value(i)\n",
    "print(Lp_prob)\n",
    "\n",
    "\n",
    "status = Lp_prob.solve()\n",
    "count=count+1\n",
    "print(LpStatus[status])\n",
    "print(value(x1),value(x2),value(x3),value(x4),value(x5),value(Lp_prob.objective))\n",
    "idle_fr = (69-value(Lp_prob.objective))\n",
    "print('Idle freight value in this case = ',idle_fr)\n",
    "cumulative_idlefr = cumulative_idlefr + idle_fr\n",
    "print('Cumulative idle freight till now = ',cumulative_idlefr)"
   ]
  },
  {
   "cell_type": "code",
   "execution_count": 17,
   "metadata": {},
   "outputs": [
    {
     "name": "stdout",
     "output_type": "stream",
     "text": [
      "Idle_Freight_Problem:\n",
      "MAXIMIZE\n",
      "20*x1 + 21*x2 + 22*x3 + 23*x4 + 24*x5 + 0\n",
      "SUBJECT TO\n",
      "_C1: 20 x1 + 21 x2 + 22 x3 + 23 x4 + 24 x5 <= 66\n",
      "\n",
      "VARIABLES\n",
      "0 <= x1 <= 7 Integer\n",
      "0 <= x2 <= 3 Integer\n",
      "0 <= x3 <= 2 Integer\n",
      "0 <= x4 <= 1 Integer\n",
      "0 <= x5 <= 3 Integer\n",
      "\n",
      "Optimal\n",
      "0.0 2.0 0.0 0.0 1.0 66.0\n",
      "Idle freight value in this case =  3.0\n",
      "Cumulative idle freight till now =  21.0\n"
     ]
    }
   ],
   "source": [
    "# Iterate the above process and get optimal solutions for each time\n",
    "nCoils = [x1,x2,x3,x4,x5]\n",
    "for i in nCoils:\n",
    "    i.upBound=i.upBound - value(i)\n",
    "print(Lp_prob)\n",
    "\n",
    "\n",
    "status = Lp_prob.solve()\n",
    "count=count+1\n",
    "print(LpStatus[status])\n",
    "print(value(x1),value(x2),value(x3),value(x4),value(x5),value(Lp_prob.objective))\n",
    "idle_fr = (69-value(Lp_prob.objective))\n",
    "print('Idle freight value in this case = ',idle_fr)\n",
    "cumulative_idlefr = cumulative_idlefr + idle_fr\n",
    "print('Cumulative idle freight till now = ',cumulative_idlefr)"
   ]
  },
  {
   "cell_type": "code",
   "execution_count": 18,
   "metadata": {},
   "outputs": [
    {
     "name": "stdout",
     "output_type": "stream",
     "text": [
      "Idle_Freight_Problem:\n",
      "MAXIMIZE\n",
      "20*x1 + 21*x2 + 22*x3 + 23*x4 + 24*x5 + 0\n",
      "SUBJECT TO\n",
      "_C1: 20 x1 + 21 x2 + 22 x3 + 23 x4 + 24 x5 <= 66\n",
      "\n",
      "VARIABLES\n",
      "0 <= x1 <= 7 Integer\n",
      "0 <= x2 <= 1 Integer\n",
      "0 <= x3 <= 2 Integer\n",
      "0 <= x4 <= 1 Integer\n",
      "0 <= x5 <= 2 Integer\n",
      "\n",
      "Optimal\n",
      "0.0 1.0 1.0 1.0 0.0 66.0\n",
      "Idle freight value in this case =  3.0\n",
      "Cumulative idle freight till now =  24.0\n"
     ]
    }
   ],
   "source": [
    "# Iterate the above process and get optimal solutions for each time\n",
    "nCoils = [x1,x2,x3,x4,x5]\n",
    "for i in nCoils:\n",
    "    i.upBound=i.upBound - value(i)\n",
    "print(Lp_prob)\n",
    "\n",
    "\n",
    "status = Lp_prob.solve()\n",
    "count=count+1\n",
    "print(LpStatus[status])\n",
    "print(value(x1),value(x2),value(x3),value(x4),value(x5),value(Lp_prob.objective))\n",
    "idle_fr = (69-value(Lp_prob.objective))\n",
    "print('Idle freight value in this case = ',idle_fr)\n",
    "cumulative_idlefr = cumulative_idlefr + idle_fr\n",
    "print('Cumulative idle freight till now = ',cumulative_idlefr)"
   ]
  },
  {
   "cell_type": "code",
   "execution_count": 19,
   "metadata": {},
   "outputs": [
    {
     "name": "stdout",
     "output_type": "stream",
     "text": [
      "Idle_Freight_Problem:\n",
      "MAXIMIZE\n",
      "20*x1 + 21*x2 + 22*x3 + 23*x4 + 24*x5 + 0\n",
      "SUBJECT TO\n",
      "_C1: 20 x1 + 21 x2 + 22 x3 + 23 x4 + 24 x5 <= 66\n",
      "\n",
      "VARIABLES\n",
      "0 <= x1 <= 7 Integer\n",
      "x2 = 0 Integer\n",
      "0 <= x3 <= 1 Integer\n",
      "x4 = 0 Integer\n",
      "0 <= x5 <= 2 Integer\n",
      "\n",
      "Optimal\n",
      "1.0 0.0 1.0 0.0 1.0 66.0\n",
      "Idle freight value in this case =  3.0\n",
      "Cumulative idle freight till now =  27.0\n"
     ]
    }
   ],
   "source": [
    "# Iterate the above process and get optimal solutions for each time\n",
    "nCoils = [x1,x2,x3,x4,x5]\n",
    "for i in nCoils:\n",
    "    i.upBound=i.upBound - value(i)\n",
    "print(Lp_prob)\n",
    "\n",
    "\n",
    "status = Lp_prob.solve()\n",
    "count=count+1\n",
    "print(LpStatus[status])\n",
    "print(value(x1),value(x2),value(x3),value(x4),value(x5),value(Lp_prob.objective))\n",
    "idle_fr = (69-value(Lp_prob.objective))\n",
    "print('Idle freight value in this case = ',idle_fr)\n",
    "cumulative_idlefr = cumulative_idlefr + idle_fr\n",
    "print('Cumulative idle freight till now = ',cumulative_idlefr)"
   ]
  },
  {
   "cell_type": "code",
   "execution_count": 20,
   "metadata": {},
   "outputs": [
    {
     "name": "stdout",
     "output_type": "stream",
     "text": [
      "Idle_Freight_Problem:\n",
      "MAXIMIZE\n",
      "20*x1 + 21*x2 + 22*x3 + 23*x4 + 24*x5 + 0\n",
      "SUBJECT TO\n",
      "_C1: 20 x1 + 21 x2 + 22 x3 + 23 x4 + 24 x5 <= 66\n",
      "\n",
      "VARIABLES\n",
      "0 <= x1 <= 6 Integer\n",
      "x2 = 0 Integer\n",
      "x3 = 0 Integer\n",
      "x4 = 0 Integer\n",
      "0 <= x5 <= 1 Integer\n",
      "\n",
      "Optimal\n",
      "2.0 0.0 0.0 0.0 1.0 64.0\n",
      "Idle freight value in this case =  5.0\n",
      "Cumulative idle freight till now =  32.0\n"
     ]
    }
   ],
   "source": [
    "# Iterate the above process and get optimal solutions for each time\n",
    "nCoils = [x1,x2,x3,x4,x5]\n",
    "for i in nCoils:\n",
    "    i.upBound=i.upBound - value(i)\n",
    "print(Lp_prob)\n",
    "\n",
    "\n",
    "status = Lp_prob.solve()\n",
    "count=count+1\n",
    "print(LpStatus[status])\n",
    "print(value(x1),value(x2),value(x3),value(x4),value(x5),value(Lp_prob.objective))\n",
    "idle_fr = (69-value(Lp_prob.objective))\n",
    "print('Idle freight value in this case = ',idle_fr)\n",
    "cumulative_idlefr = cumulative_idlefr + idle_fr\n",
    "print('Cumulative idle freight till now = ',cumulative_idlefr)"
   ]
  },
  {
   "cell_type": "code",
   "execution_count": 21,
   "metadata": {},
   "outputs": [
    {
     "name": "stdout",
     "output_type": "stream",
     "text": [
      "Idle_Freight_Problem:\n",
      "MAXIMIZE\n",
      "20*x1 + 21*x2 + 22*x3 + 23*x4 + 24*x5 + 0\n",
      "SUBJECT TO\n",
      "_C1: 20 x1 + 21 x2 + 22 x3 + 23 x4 + 24 x5 <= 66\n",
      "\n",
      "VARIABLES\n",
      "0 <= x1 <= 4 Integer\n",
      "x2 = 0 Integer\n",
      "x3 = 0 Integer\n",
      "x4 = 0 Integer\n",
      "x5 = 0 Integer\n",
      "\n",
      "Optimal\n",
      "3.0 0.0 0.0 0.0 0.0 60.0\n",
      "Idle freight value in this case =  9.0\n",
      "Cumulative idle freight till now =  41.0\n"
     ]
    }
   ],
   "source": [
    "# Iterate the above process and get optimal solutions for each time\n",
    "nCoils = [x1,x2,x3,x4,x5]\n",
    "for i in nCoils:\n",
    "    i.upBound=i.upBound - value(i)\n",
    "print(Lp_prob)\n",
    "\n",
    "\n",
    "status = Lp_prob.solve()\n",
    "count=count+1\n",
    "print(LpStatus[status])\n",
    "print(value(x1),value(x2),value(x3),value(x4),value(x5),value(Lp_prob.objective))\n",
    "idle_fr = (69-value(Lp_prob.objective))\n",
    "print('Idle freight value in this case = ',idle_fr)\n",
    "cumulative_idlefr = cumulative_idlefr + idle_fr\n",
    "print('Cumulative idle freight till now = ',cumulative_idlefr)"
   ]
  },
  {
   "cell_type": "code",
   "execution_count": 22,
   "metadata": {},
   "outputs": [
    {
     "name": "stdout",
     "output_type": "stream",
     "text": [
      "Idle_Freight_Problem:\n",
      "MAXIMIZE\n",
      "20*x1 + 21*x2 + 22*x3 + 23*x4 + 24*x5 + 0\n",
      "SUBJECT TO\n",
      "_C1: 20 x1 + 21 x2 + 22 x3 + 23 x4 + 24 x5 <= 66\n",
      "\n",
      "VARIABLES\n",
      "0 <= x1 <= 1 Integer\n",
      "x2 = 0 Integer\n",
      "x3 = 0 Integer\n",
      "x4 = 0 Integer\n",
      "x5 = 0 Integer\n",
      "\n",
      "Optimal\n",
      "1.0 0.0 0.0 0.0 0.0 20.0\n",
      "Idle freight value in this case =  49.0\n",
      "Cumulative idle freight till now =  90.0\n"
     ]
    }
   ],
   "source": [
    "# Iterate the above process and get optimal solutions for each time\n",
    "nCoils = [x1,x2,x3,x4,x5]\n",
    "for i in nCoils:\n",
    "    i.upBound=i.upBound - value(i)\n",
    "print(Lp_prob)\n",
    "\n",
    "\n",
    "status = Lp_prob.solve()\n",
    "count=count+1\n",
    "print(LpStatus[status])\n",
    "print(value(x1),value(x2),value(x3),value(x4),value(x5),value(Lp_prob.objective))\n",
    "idle_fr = (69-value(Lp_prob.objective))\n",
    "print('Idle freight value in this case = ',idle_fr)\n",
    "cumulative_idlefr = cumulative_idlefr + idle_fr\n",
    "print('Cumulative idle freight till now = ',cumulative_idlefr)"
   ]
  },
  {
   "cell_type": "code",
   "execution_count": 23,
   "metadata": {},
   "outputs": [
    {
     "name": "stdout",
     "output_type": "stream",
     "text": [
      "Idle_Freight_Problem:\n",
      "MAXIMIZE\n",
      "20*x1 + 21*x2 + 22*x3 + 23*x4 + 24*x5 + 0\n",
      "SUBJECT TO\n",
      "_C1: 20 x1 + 21 x2 + 22 x3 + 23 x4 + 24 x5 <= 66\n",
      "\n",
      "VARIABLES\n",
      "x1 = 0 Integer\n",
      "x2 = 0 Integer\n",
      "x3 = 0 Integer\n",
      "x4 = 0 Integer\n",
      "x5 = 0 Integer\n",
      "\n"
     ]
    }
   ],
   "source": [
    "# Iterate the above process and get optimal solutions for each time\n",
    "nCoils = [x1,x2,x3,x4,x5]\n",
    "for i in nCoils:\n",
    "    i.upBound=i.upBound - value(i)\n",
    "print(Lp_prob)\n",
    "\n",
    "\n",
    "# status = Lp_prob.solve()\n",
    "# count=count+1\n",
    "# print(LpStatus[status])\n",
    "# print(value(x1),value(x2),value(x3),value(x4),value(x5),value(Lp_prob.objective))\n",
    "# idle_fr = (69-value(Lp_prob.objective))\n",
    "# print('Idle freight value in this case = ',idle_fr)\n",
    "# cumulative_idlefr = cumulative_idlefr + idle_fr\n",
    "# print('Cumulative idle freight till now = ',cumulative_idlefr)"
   ]
  },
  {
   "cell_type": "code",
   "execution_count": 24,
   "metadata": {},
   "outputs": [
    {
     "data": {
      "text/plain": [
       "Text(0.5, 1.0, 'Idle Freight tracker')"
      ]
     },
     "execution_count": 24,
     "metadata": {},
     "output_type": "execute_result"
    },
    {
     "data": {
      "image/png": "[encoded data removed]",
      "text/plain": [
       "<Figure size 432x288 with 1 Axes>"
      ]
     },
     "metadata": {
      "needs_background": "light"
     },
     "output_type": "display_data"
    }
   ],
   "source": [
    "X=range(1,count+1)\n",
    "Y=[0,0,3,3,3,3,3,3,3,3,3,5,9,49]\n",
    "plt.plot(X,Y)\n",
    "plt.ylabel('Idle freight case wise')\n",
    "plt.title('Idle Freight tracker')"
   ]
  },
  {
   "cell_type": "code",
   "execution_count": 25,
   "metadata": {},
   "outputs": [
    {
     "name": "stdout",
     "output_type": "stream",
     "text": [
      "Idle weight percentage in this case of 66 ton capacity wagons =  9.740259740259742\n"
     ]
    }
   ],
   "source": [
    "# Display idle weight percentage\n",
    "idle_wt_percentage = ((cumulative_idlefr)/(66*count))*100\n",
    "print(\"Idle weight percentage in this case of 66 ton capacity wagons = \",idle_wt_percentage)"
   ]
  },
  {
   "cell_type": "code",
   "execution_count": null,
   "metadata": {},
   "outputs": [],
   "source": []
  }
 ],
 "metadata": {
  "kernelspec": {
   "display_name": "Python 3",
   "language": "python",
   "name": "python3"
  },
  "language_info": {
   "codemirror_mode": {
    "name": "ipython",
    "version": 3
   },
   "file_extension": ".py",
   "mimetype": "text/x-python",
   "name": "python",
   "nbconvert_exporter": "python",
   "pygments_lexer": "ipython3",
   "version": "3.7.4"
  }
 },
 "nbformat": 4,
 "nbformat_minor": 2
}
