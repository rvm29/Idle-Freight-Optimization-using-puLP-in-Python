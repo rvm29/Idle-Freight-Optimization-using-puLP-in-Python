{
 "cells": [
  {
   "cell_type": "code",
   "execution_count": 178,
   "metadata": {},
   "outputs": [],
   "source": [
    "# Import the necessary libraries\n",
    "import pulp as p\n",
    "from pulp import *\n",
    "import pandas as pd\n",
    "import numpy as np\n",
    "import matplotlib.pyplot as plt"
   ]
  },
  {
   "cell_type": "code",
   "execution_count": 179,
   "metadata": {},
   "outputs": [],
   "source": [
    "# Create the LP Maximization Problem\n",
    "Lp_prob=LpProblem('Idle Freight Problem',LpMaximize)"
   ]
  },
  {
   "cell_type": "code",
   "execution_count": 180,
   "metadata": {},
   "outputs": [],
   "source": [
    "# Create the Decision Variables\n",
    "x1=LpVariable('x1',lowBound = 0,upBound = 10,cat='Integer')\n",
    "x2=LpVariable('x2',lowBound = 0,upBound = 9,cat='Integer')\n",
    "x3=LpVariable('x3',lowBound = 0,upBound = 8,cat='Integer')\n",
    "x4=LpVariable('x4',lowBound = 0,upBound = 7,cat='Integer')\n",
    "x5=LpVariable('x5',lowBound = 0,upBound = 6,cat='Integer')\n",
    "\n",
    "# Create cumulative idle freight variable\n",
    "cumulative_idlefr=0\n",
    "count=0"
   ]
  },
  {
   "cell_type": "code",
   "execution_count": 181,
   "metadata": {},
   "outputs": [],
   "source": [
    "# Objective Function\n",
    "Lp_prob += 20*x1 + 21*x2 + 22*x3 + 23*x4 + 24*x5"
   ]
  },
  {
   "cell_type": "code",
   "execution_count": 182,
   "metadata": {},
   "outputs": [],
   "source": [
    "# Constraints \n",
    "Lp_prob += 20*x1 + 21*x2 + 22*x3 + 23*x4 + 24*x5 <=63"
   ]
  },
  {
   "cell_type": "code",
   "execution_count": 183,
   "metadata": {},
   "outputs": [
    {
     "name": "stdout",
     "output_type": "stream",
     "text": [
      "Idle_Freight_Problem:\n",
      "MAXIMIZE\n",
      "20*x1 + 21*x2 + 22*x3 + 23*x4 + 24*x5 + 0\n",
      "SUBJECT TO\n",
      "_C1: 20 x1 + 21 x2 + 22 x3 + 23 x4 + 24 x5 <= 63\n",
      "\n",
      "VARIABLES\n",
      "0 <= x1 <= 10 Integer\n",
      "0 <= x2 <= 9 Integer\n",
      "0 <= x3 <= 8 Integer\n",
      "0 <= x4 <= 7 Integer\n",
      "0 <= x5 <= 6 Integer\n",
      "\n"
     ]
    }
   ],
   "source": [
    "# Display the formulated Problem\n",
    "print(Lp_prob)"
   ]
  },
  {
   "cell_type": "code",
   "execution_count": 184,
   "metadata": {},
   "outputs": [],
   "source": [
    "# Try and find acceptable solution values\n",
    "status = Lp_prob.solve()"
   ]
  },
  {
   "cell_type": "code",
   "execution_count": 185,
   "metadata": {},
   "outputs": [
    {
     "name": "stdout",
     "output_type": "stream",
     "text": [
      "Optimal\n"
     ]
    }
   ],
   "source": [
    "# Check status \n",
    "print(LpStatus[status])"
   ]
  },
  {
   "cell_type": "code",
   "execution_count": 186,
   "metadata": {},
   "outputs": [
    {
     "name": "stdout",
     "output_type": "stream",
     "text": [
      "2.0 0.0 0.0 1.0 0.0 63.0\n",
      "Idle freight value in this case =  0.0\n",
      "Cumulative idle freight till now =  0.0\n"
     ]
    }
   ],
   "source": [
    "# Display solution values\n",
    "print(value(x1),value(x2),value(x3),value(x4),value(x5),value(Lp_prob.objective))\n",
    "idle_fr = (63-value(Lp_prob.objective))\n",
    "print('Idle freight value in this case = ',idle_fr)\n",
    "cumulative_idlefr = cumulative_idlefr + idle_fr\n",
    "print('Cumulative idle freight till now = ',cumulative_idlefr)\n",
    "count=count+1"
   ]
  },
  {
   "cell_type": "code",
   "execution_count": 187,
   "metadata": {},
   "outputs": [
    {
     "name": "stdout",
     "output_type": "stream",
     "text": [
      "Idle_Freight_Problem:\n",
      "MAXIMIZE\n",
      "20*x1 + 21*x2 + 22*x3 + 23*x4 + 24*x5 + 0\n",
      "SUBJECT TO\n",
      "_C1: 20 x1 + 21 x2 + 22 x3 + 23 x4 + 24 x5 <= 63\n",
      "\n",
      "VARIABLES\n",
      "0 <= x1 <= 8 Integer\n",
      "0 <= x2 <= 9 Integer\n",
      "0 <= x3 <= 8 Integer\n",
      "0 <= x4 <= 6 Integer\n",
      "0 <= x5 <= 6 Integer\n",
      "\n"
     ]
    }
   ],
   "source": [
    "# Iterate the above process and get optimal solutions for each time\n",
    "nCoils = [x1,x2,x3,x4,x5]\n",
    "for i in nCoils:\n",
    "    i.upBound=i.upBound - value(i)\n",
    "print(Lp_prob)"
   ]
  },
  {
   "cell_type": "code",
   "execution_count": 188,
   "metadata": {},
   "outputs": [
    {
     "name": "stdout",
     "output_type": "stream",
     "text": [
      "Optimal\n",
      "2.0 0.0 0.0 1.0 0.0 63.0\n",
      "Idle freight value in this case =  0.0\n",
      "Cumulative idle freight till now =  0.0\n"
     ]
    }
   ],
   "source": [
    "status = Lp_prob.solve()\n",
    "count=count+1\n",
    "print(LpStatus[status])\n",
    "print(value(x1),value(x2),value(x3),value(x4),value(x5),value(Lp_prob.objective))\n",
    "idle_fr = (63-value(Lp_prob.objective))\n",
    "print('Idle freight value in this case = ',idle_fr)\n",
    "cumulative_idlefr = cumulative_idlefr + idle_fr\n",
    "print('Cumulative idle freight till now = ',cumulative_idlefr)"
   ]
  },
  {
   "cell_type": "code",
   "execution_count": 189,
   "metadata": {},
   "outputs": [
    {
     "name": "stdout",
     "output_type": "stream",
     "text": [
      "Idle_Freight_Problem:\n",
      "MAXIMIZE\n",
      "20*x1 + 21*x2 + 22*x3 + 23*x4 + 24*x5 + 0\n",
      "SUBJECT TO\n",
      "_C1: 20 x1 + 21 x2 + 22 x3 + 23 x4 + 24 x5 <= 63\n",
      "\n",
      "VARIABLES\n",
      "0 <= x1 <= 6 Integer\n",
      "0 <= x2 <= 9 Integer\n",
      "0 <= x3 <= 8 Integer\n",
      "0 <= x4 <= 5 Integer\n",
      "0 <= x5 <= 6 Integer\n",
      "\n"
     ]
    }
   ],
   "source": [
    "for i in nCoils:\n",
    "    i.upBound=i.upBound - value(i)\n",
    "print(Lp_prob)"
   ]
  },
  {
   "cell_type": "code",
   "execution_count": 190,
   "metadata": {},
   "outputs": [
    {
     "name": "stdout",
     "output_type": "stream",
     "text": [
      "Optimal\n",
      "2.0 0.0 0.0 1.0 0.0 63.0\n",
      "Idle freight value in this case =  0.0\n",
      "Cumulative idle freight till now =  0.0\n"
     ]
    }
   ],
   "source": [
    "status = Lp_prob.solve()\n",
    "count=count+1\n",
    "print(LpStatus[status])\n",
    "print(value(x1),value(x2),value(x3),value(x4),value(x5),value(Lp_prob.objective))\n",
    "idle_fr = (63-value(Lp_prob.objective))\n",
    "print('Idle freight value in this case = ',idle_fr)\n",
    "cumulative_idlefr = cumulative_idlefr + idle_fr\n",
    "print('Cumulative idle freight till now = ',cumulative_idlefr)"
   ]
  },
  {
   "cell_type": "code",
   "execution_count": 191,
   "metadata": {},
   "outputs": [
    {
     "name": "stdout",
     "output_type": "stream",
     "text": [
      "Idle_Freight_Problem:\n",
      "MAXIMIZE\n",
      "20*x1 + 21*x2 + 22*x3 + 23*x4 + 24*x5 + 0\n",
      "SUBJECT TO\n",
      "_C1: 20 x1 + 21 x2 + 22 x3 + 23 x4 + 24 x5 <= 63\n",
      "\n",
      "VARIABLES\n",
      "0 <= x1 <= 4 Integer\n",
      "0 <= x2 <= 9 Integer\n",
      "0 <= x3 <= 8 Integer\n",
      "0 <= x4 <= 4 Integer\n",
      "0 <= x5 <= 6 Integer\n",
      "\n"
     ]
    }
   ],
   "source": [
    "for i in nCoils:\n",
    "    i.upBound=i.upBound - value(i)\n",
    "print(Lp_prob)"
   ]
  },
  {
   "cell_type": "code",
   "execution_count": 192,
   "metadata": {},
   "outputs": [
    {
     "name": "stdout",
     "output_type": "stream",
     "text": [
      "Optimal\n",
      "2.0 0.0 0.0 1.0 0.0 63.0\n",
      "Idle freight value in this case =  0.0\n",
      "Cumulative idle freight till now =  0.0\n"
     ]
    }
   ],
   "source": [
    "status = Lp_prob.solve()\n",
    "count=count+1\n",
    "print(LpStatus[status])\n",
    "print(value(x1),value(x2),value(x3),value(x4),value(x5),value(Lp_prob.objective))\n",
    "idle_fr = (63-value(Lp_prob.objective))\n",
    "print('Idle freight value in this case = ',idle_fr)\n",
    "cumulative_idlefr = cumulative_idlefr + idle_fr\n",
    "print('Cumulative idle freight till now = ',cumulative_idlefr)"
   ]
  },
  {
   "cell_type": "code",
   "execution_count": 193,
   "metadata": {},
   "outputs": [
    {
     "name": "stdout",
     "output_type": "stream",
     "text": [
      "Idle_Freight_Problem:\n",
      "MAXIMIZE\n",
      "20*x1 + 21*x2 + 22*x3 + 23*x4 + 24*x5 + 0\n",
      "SUBJECT TO\n",
      "_C1: 20 x1 + 21 x2 + 22 x3 + 23 x4 + 24 x5 <= 63\n",
      "\n",
      "VARIABLES\n",
      "0 <= x1 <= 2 Integer\n",
      "0 <= x2 <= 9 Integer\n",
      "0 <= x3 <= 8 Integer\n",
      "0 <= x4 <= 3 Integer\n",
      "0 <= x5 <= 6 Integer\n",
      "\n"
     ]
    }
   ],
   "source": [
    "for i in nCoils:\n",
    "    i.upBound=i.upBound - value(i)\n",
    "print(Lp_prob)"
   ]
  },
  {
   "cell_type": "code",
   "execution_count": 194,
   "metadata": {},
   "outputs": [
    {
     "name": "stdout",
     "output_type": "stream",
     "text": [
      "Optimal\n",
      "2.0 0.0 0.0 1.0 0.0 63.0\n",
      "Idle freight value in this case =  0.0\n",
      "Cumulative idle freight till now =  0.0\n"
     ]
    }
   ],
   "source": [
    "status = Lp_prob.solve()\n",
    "count=count+1\n",
    "print(LpStatus[status])\n",
    "print(value(x1),value(x2),value(x3),value(x4),value(x5),value(Lp_prob.objective))\n",
    "idle_fr = (63-value(Lp_prob.objective))\n",
    "print('Idle freight value in this case = ',idle_fr)\n",
    "cumulative_idlefr = cumulative_idlefr + idle_fr\n",
    "print('Cumulative idle freight till now = ',cumulative_idlefr)"
   ]
  },
  {
   "cell_type": "code",
   "execution_count": 195,
   "metadata": {},
   "outputs": [
    {
     "name": "stdout",
     "output_type": "stream",
     "text": [
      "Idle_Freight_Problem:\n",
      "MAXIMIZE\n",
      "20*x1 + 21*x2 + 22*x3 + 23*x4 + 24*x5 + 0\n",
      "SUBJECT TO\n",
      "_C1: 20 x1 + 21 x2 + 22 x3 + 23 x4 + 24 x5 <= 63\n",
      "\n",
      "VARIABLES\n",
      "x1 = 0 Integer\n",
      "0 <= x2 <= 9 Integer\n",
      "0 <= x3 <= 8 Integer\n",
      "0 <= x4 <= 2 Integer\n",
      "0 <= x5 <= 6 Integer\n",
      "\n"
     ]
    }
   ],
   "source": [
    "for i in nCoils:\n",
    "    i.upBound=i.upBound - value(i)\n",
    "print(Lp_prob)"
   ]
  },
  {
   "cell_type": "code",
   "execution_count": 196,
   "metadata": {},
   "outputs": [
    {
     "name": "stdout",
     "output_type": "stream",
     "text": [
      "Optimal\n",
      "0.0 3.0 0.0 0.0 0.0 63.0\n",
      "Idle freight value in this case =  0.0\n",
      "Cumulative idle freight till now =  0.0\n"
     ]
    }
   ],
   "source": [
    "status = Lp_prob.solve()\n",
    "count=count+1\n",
    "print(LpStatus[status])\n",
    "print(value(x1),value(x2),value(x3),value(x4),value(x5),value(Lp_prob.objective))\n",
    "idle_fr = (63-value(Lp_prob.objective))\n",
    "print('Idle freight value in this case = ',idle_fr)\n",
    "cumulative_idlefr = cumulative_idlefr + idle_fr\n",
    "print('Cumulative idle freight till now = ',cumulative_idlefr)"
   ]
  },
  {
   "cell_type": "code",
   "execution_count": 197,
   "metadata": {},
   "outputs": [
    {
     "name": "stdout",
     "output_type": "stream",
     "text": [
      "Idle_Freight_Problem:\n",
      "MAXIMIZE\n",
      "20*x1 + 21*x2 + 22*x3 + 23*x4 + 24*x5 + 0\n",
      "SUBJECT TO\n",
      "_C1: 20 x1 + 21 x2 + 22 x3 + 23 x4 + 24 x5 <= 63\n",
      "\n",
      "VARIABLES\n",
      "x1 = 0 Integer\n",
      "0 <= x2 <= 6 Integer\n",
      "0 <= x3 <= 8 Integer\n",
      "0 <= x4 <= 2 Integer\n",
      "0 <= x5 <= 6 Integer\n",
      "\n"
     ]
    }
   ],
   "source": [
    "for i in nCoils:\n",
    "    i.upBound=i.upBound - value(i)\n",
    "print(Lp_prob)"
   ]
  },
  {
   "cell_type": "code",
   "execution_count": 198,
   "metadata": {},
   "outputs": [
    {
     "name": "stdout",
     "output_type": "stream",
     "text": [
      "Optimal\n",
      "0.0 3.0 0.0 0.0 0.0 63.0\n",
      "Idle freight value in this case =  0.0\n",
      "Cumulative idle freight till now =  0.0\n"
     ]
    }
   ],
   "source": [
    "status = Lp_prob.solve()\n",
    "count=count+1\n",
    "print(LpStatus[status])\n",
    "print(value(x1),value(x2),value(x3),value(x4),value(x5),value(Lp_prob.objective))\n",
    "idle_fr = (63-value(Lp_prob.objective))\n",
    "print('Idle freight value in this case = ',idle_fr)\n",
    "cumulative_idlefr = cumulative_idlefr + idle_fr\n",
    "print('Cumulative idle freight till now = ',cumulative_idlefr)"
   ]
  },
  {
   "cell_type": "code",
   "execution_count": 199,
   "metadata": {},
   "outputs": [
    {
     "name": "stdout",
     "output_type": "stream",
     "text": [
      "Idle_Freight_Problem:\n",
      "MAXIMIZE\n",
      "20*x1 + 21*x2 + 22*x3 + 23*x4 + 24*x5 + 0\n",
      "SUBJECT TO\n",
      "_C1: 20 x1 + 21 x2 + 22 x3 + 23 x4 + 24 x5 <= 63\n",
      "\n",
      "VARIABLES\n",
      "x1 = 0 Integer\n",
      "0 <= x2 <= 3 Integer\n",
      "0 <= x3 <= 8 Integer\n",
      "0 <= x4 <= 2 Integer\n",
      "0 <= x5 <= 6 Integer\n",
      "\n"
     ]
    }
   ],
   "source": [
    "for i in nCoils:\n",
    "    i.upBound=i.upBound - value(i)\n",
    "print(Lp_prob)"
   ]
  },
  {
   "cell_type": "code",
   "execution_count": 200,
   "metadata": {},
   "outputs": [
    {
     "name": "stdout",
     "output_type": "stream",
     "text": [
      "Optimal\n",
      "0.0 3.0 0.0 0.0 0.0 63.0\n",
      "Idle freight value in this case =  0.0\n",
      "Cumulative idle freight till now =  0.0\n"
     ]
    }
   ],
   "source": [
    "status = Lp_prob.solve()\n",
    "count=count+1\n",
    "print(LpStatus[status])\n",
    "print(value(x1),value(x2),value(x3),value(x4),value(x5),value(Lp_prob.objective))\n",
    "idle_fr = (63-value(Lp_prob.objective))\n",
    "print('Idle freight value in this case = ',idle_fr)\n",
    "cumulative_idlefr = cumulative_idlefr + idle_fr\n",
    "print('Cumulative idle freight till now = ',cumulative_idlefr)"
   ]
  },
  {
   "cell_type": "code",
   "execution_count": 201,
   "metadata": {},
   "outputs": [
    {
     "name": "stdout",
     "output_type": "stream",
     "text": [
      "Idle_Freight_Problem:\n",
      "MAXIMIZE\n",
      "20*x1 + 21*x2 + 22*x3 + 23*x4 + 24*x5 + 0\n",
      "SUBJECT TO\n",
      "_C1: 20 x1 + 21 x2 + 22 x3 + 23 x4 + 24 x5 <= 63\n",
      "\n",
      "VARIABLES\n",
      "x1 = 0 Integer\n",
      "x2 = 0 Integer\n",
      "0 <= x3 <= 8 Integer\n",
      "0 <= x4 <= 2 Integer\n",
      "0 <= x5 <= 6 Integer\n",
      "\n"
     ]
    }
   ],
   "source": [
    "for i in nCoils:\n",
    "    i.upBound=i.upBound - value(i)\n",
    "print(Lp_prob)"
   ]
  },
  {
   "cell_type": "code",
   "execution_count": 202,
   "metadata": {},
   "outputs": [
    {
     "name": "stdout",
     "output_type": "stream",
     "text": [
      "Optimal\n",
      "0.0 0.0 0.0 0.0 2.0 48.0\n",
      "Idle freight value in this case =  15.0\n",
      "Cumulative idle freight till now =  15.0\n"
     ]
    }
   ],
   "source": [
    "status = Lp_prob.solve()\n",
    "count=count+1\n",
    "print(LpStatus[status])\n",
    "print(value(x1),value(x2),value(x3),value(x4),value(x5),value(Lp_prob.objective))\n",
    "idle_fr = (63-value(Lp_prob.objective))\n",
    "print('Idle freight value in this case = ',idle_fr)\n",
    "cumulative_idlefr = cumulative_idlefr + idle_fr\n",
    "print('Cumulative idle freight till now = ',cumulative_idlefr)"
   ]
  },
  {
   "cell_type": "code",
   "execution_count": 203,
   "metadata": {},
   "outputs": [
    {
     "name": "stdout",
     "output_type": "stream",
     "text": [
      "Idle_Freight_Problem:\n",
      "MAXIMIZE\n",
      "20*x1 + 21*x2 + 22*x3 + 23*x4 + 24*x5 + 0\n",
      "SUBJECT TO\n",
      "_C1: 20 x1 + 21 x2 + 22 x3 + 23 x4 + 24 x5 <= 63\n",
      "\n",
      "VARIABLES\n",
      "x1 = 0 Integer\n",
      "x2 = 0 Integer\n",
      "0 <= x3 <= 8 Integer\n",
      "0 <= x4 <= 2 Integer\n",
      "0 <= x5 <= 4 Integer\n",
      "\n"
     ]
    }
   ],
   "source": [
    "for i in nCoils:\n",
    "    i.upBound=i.upBound - value(i)\n",
    "print(Lp_prob)"
   ]
  },
  {
   "cell_type": "code",
   "execution_count": 204,
   "metadata": {},
   "outputs": [
    {
     "name": "stdout",
     "output_type": "stream",
     "text": [
      "Optimal\n",
      "0.0 0.0 0.0 0.0 2.0 48.0\n",
      "Idle freight value in this case =  15.0\n",
      "Cumulative idle freight till now =  30.0\n"
     ]
    }
   ],
   "source": [
    "status = Lp_prob.solve()\n",
    "count=count+1\n",
    "print(LpStatus[status])\n",
    "print(value(x1),value(x2),value(x3),value(x4),value(x5),value(Lp_prob.objective))\n",
    "idle_fr = (63-value(Lp_prob.objective))\n",
    "print('Idle freight value in this case = ',idle_fr)\n",
    "cumulative_idlefr = cumulative_idlefr + idle_fr\n",
    "print('Cumulative idle freight till now = ',cumulative_idlefr)"
   ]
  },
  {
   "cell_type": "code",
   "execution_count": 205,
   "metadata": {},
   "outputs": [
    {
     "name": "stdout",
     "output_type": "stream",
     "text": [
      "Idle_Freight_Problem:\n",
      "MAXIMIZE\n",
      "20*x1 + 21*x2 + 22*x3 + 23*x4 + 24*x5 + 0\n",
      "SUBJECT TO\n",
      "_C1: 20 x1 + 21 x2 + 22 x3 + 23 x4 + 24 x5 <= 63\n",
      "\n",
      "VARIABLES\n",
      "x1 = 0 Integer\n",
      "x2 = 0 Integer\n",
      "0 <= x3 <= 8 Integer\n",
      "0 <= x4 <= 2 Integer\n",
      "0 <= x5 <= 2 Integer\n",
      "\n"
     ]
    }
   ],
   "source": [
    "for i in nCoils:\n",
    "    i.upBound=i.upBound - value(i)\n",
    "print(Lp_prob)"
   ]
  },
  {
   "cell_type": "code",
   "execution_count": 206,
   "metadata": {},
   "outputs": [
    {
     "name": "stdout",
     "output_type": "stream",
     "text": [
      "Optimal\n",
      "0.0 0.0 0.0 0.0 2.0 48.0\n",
      "Idle freight value in this case =  15.0\n",
      "Cumulative idle freight till now =  45.0\n"
     ]
    }
   ],
   "source": [
    "status = Lp_prob.solve()\n",
    "count=count+1\n",
    "print(LpStatus[status])\n",
    "print(value(x1),value(x2),value(x3),value(x4),value(x5),value(Lp_prob.objective))\n",
    "idle_fr = (63-value(Lp_prob.objective))\n",
    "print('Idle freight value in this case = ',idle_fr)\n",
    "cumulative_idlefr = cumulative_idlefr + idle_fr\n",
    "print('Cumulative idle freight till now = ',cumulative_idlefr)"
   ]
  },
  {
   "cell_type": "code",
   "execution_count": 207,
   "metadata": {},
   "outputs": [
    {
     "name": "stdout",
     "output_type": "stream",
     "text": [
      "Idle_Freight_Problem:\n",
      "MAXIMIZE\n",
      "20*x1 + 21*x2 + 22*x3 + 23*x4 + 24*x5 + 0\n",
      "SUBJECT TO\n",
      "_C1: 20 x1 + 21 x2 + 22 x3 + 23 x4 + 24 x5 <= 63\n",
      "\n",
      "VARIABLES\n",
      "x1 = 0 Integer\n",
      "x2 = 0 Integer\n",
      "0 <= x3 <= 8 Integer\n",
      "0 <= x4 <= 2 Integer\n",
      "x5 = 0 Integer\n",
      "\n"
     ]
    }
   ],
   "source": [
    "for i in nCoils:\n",
    "    i.upBound=i.upBound - value(i)\n",
    "print(Lp_prob)"
   ]
  },
  {
   "cell_type": "code",
   "execution_count": 208,
   "metadata": {},
   "outputs": [
    {
     "name": "stdout",
     "output_type": "stream",
     "text": [
      "Optimal\n",
      "0.0 0.0 0.0 2.0 0.0 46.0\n",
      "Idle freight value in this case =  17.0\n",
      "Cumulative idle freight till now =  62.0\n"
     ]
    }
   ],
   "source": [
    "status = Lp_prob.solve()\n",
    "count=count+1\n",
    "print(LpStatus[status])\n",
    "print(value(x1),value(x2),value(x3),value(x4),value(x5),value(Lp_prob.objective))\n",
    "idle_fr = (63-value(Lp_prob.objective))\n",
    "print('Idle freight value in this case = ',idle_fr)\n",
    "cumulative_idlefr = cumulative_idlefr + idle_fr\n",
    "print('Cumulative idle freight till now = ',cumulative_idlefr)"
   ]
  },
  {
   "cell_type": "code",
   "execution_count": 209,
   "metadata": {},
   "outputs": [
    {
     "name": "stdout",
     "output_type": "stream",
     "text": [
      "Idle_Freight_Problem:\n",
      "MAXIMIZE\n",
      "20*x1 + 21*x2 + 22*x3 + 23*x4 + 24*x5 + 0\n",
      "SUBJECT TO\n",
      "_C1: 20 x1 + 21 x2 + 22 x3 + 23 x4 + 24 x5 <= 63\n",
      "\n",
      "VARIABLES\n",
      "x1 = 0 Integer\n",
      "x2 = 0 Integer\n",
      "0 <= x3 <= 8 Integer\n",
      "x4 = 0 Integer\n",
      "x5 = 0 Integer\n",
      "\n"
     ]
    }
   ],
   "source": [
    "for i in nCoils:\n",
    "    i.upBound=i.upBound - value(i)\n",
    "print(Lp_prob)"
   ]
  },
  {
   "cell_type": "code",
   "execution_count": 210,
   "metadata": {},
   "outputs": [
    {
     "name": "stdout",
     "output_type": "stream",
     "text": [
      "Optimal\n",
      "0.0 0.0 2.0 0.0 0.0 44.0\n",
      "Idle freight value in this case =  19.0\n",
      "Cumulative idle freight till now =  81.0\n"
     ]
    }
   ],
   "source": [
    "status = Lp_prob.solve()\n",
    "count=count+1\n",
    "print(LpStatus[status])\n",
    "print(value(x1),value(x2),value(x3),value(x4),value(x5),value(Lp_prob.objective))\n",
    "idle_fr = (63-value(Lp_prob.objective))\n",
    "print('Idle freight value in this case = ',idle_fr)\n",
    "cumulative_idlefr = cumulative_idlefr + idle_fr\n",
    "print('Cumulative idle freight till now = ',cumulative_idlefr)"
   ]
  },
  {
   "cell_type": "code",
   "execution_count": 211,
   "metadata": {},
   "outputs": [
    {
     "name": "stdout",
     "output_type": "stream",
     "text": [
      "Idle_Freight_Problem:\n",
      "MAXIMIZE\n",
      "20*x1 + 21*x2 + 22*x3 + 23*x4 + 24*x5 + 0\n",
      "SUBJECT TO\n",
      "_C1: 20 x1 + 21 x2 + 22 x3 + 23 x4 + 24 x5 <= 63\n",
      "\n",
      "VARIABLES\n",
      "x1 = 0 Integer\n",
      "x2 = 0 Integer\n",
      "0 <= x3 <= 6 Integer\n",
      "x4 = 0 Integer\n",
      "x5 = 0 Integer\n",
      "\n"
     ]
    }
   ],
   "source": [
    "for i in nCoils:\n",
    "    i.upBound=i.upBound - value(i)\n",
    "print(Lp_prob)"
   ]
  },
  {
   "cell_type": "code",
   "execution_count": 212,
   "metadata": {},
   "outputs": [
    {
     "name": "stdout",
     "output_type": "stream",
     "text": [
      "Optimal\n",
      "0.0 0.0 2.0 0.0 0.0 44.0\n",
      "Idle freight value in this case =  19.0\n",
      "Cumulative idle freight till now =  100.0\n"
     ]
    }
   ],
   "source": [
    "status = Lp_prob.solve()\n",
    "count=count+1\n",
    "print(LpStatus[status])\n",
    "print(value(x1),value(x2),value(x3),value(x4),value(x5),value(Lp_prob.objective))\n",
    "idle_fr = (63-value(Lp_prob.objective))\n",
    "print('Idle freight value in this case = ',idle_fr)\n",
    "cumulative_idlefr = cumulative_idlefr + idle_fr\n",
    "print('Cumulative idle freight till now = ',cumulative_idlefr)"
   ]
  },
  {
   "cell_type": "code",
   "execution_count": 213,
   "metadata": {},
   "outputs": [
    {
     "name": "stdout",
     "output_type": "stream",
     "text": [
      "Idle_Freight_Problem:\n",
      "MAXIMIZE\n",
      "20*x1 + 21*x2 + 22*x3 + 23*x4 + 24*x5 + 0\n",
      "SUBJECT TO\n",
      "_C1: 20 x1 + 21 x2 + 22 x3 + 23 x4 + 24 x5 <= 63\n",
      "\n",
      "VARIABLES\n",
      "x1 = 0 Integer\n",
      "x2 = 0 Integer\n",
      "0 <= x3 <= 4 Integer\n",
      "x4 = 0 Integer\n",
      "x5 = 0 Integer\n",
      "\n"
     ]
    }
   ],
   "source": [
    "for i in nCoils:\n",
    "    i.upBound=i.upBound - value(i)\n",
    "print(Lp_prob)"
   ]
  },
  {
   "cell_type": "code",
   "execution_count": 214,
   "metadata": {},
   "outputs": [
    {
     "name": "stdout",
     "output_type": "stream",
     "text": [
      "Optimal\n",
      "0.0 0.0 2.0 0.0 0.0 44.0\n",
      "Idle freight value in this case =  19.0\n",
      "Cumulative idle freight till now =  119.0\n"
     ]
    }
   ],
   "source": [
    "status = Lp_prob.solve()\n",
    "count=count+1\n",
    "print(LpStatus[status])\n",
    "print(value(x1),value(x2),value(x3),value(x4),value(x5),value(Lp_prob.objective))\n",
    "idle_fr = (63-value(Lp_prob.objective))\n",
    "print('Idle freight value in this case = ',idle_fr)\n",
    "cumulative_idlefr = cumulative_idlefr + idle_fr\n",
    "print('Cumulative idle freight till now = ',cumulative_idlefr)"
   ]
  },
  {
   "cell_type": "code",
   "execution_count": 215,
   "metadata": {},
   "outputs": [
    {
     "name": "stdout",
     "output_type": "stream",
     "text": [
      "Idle_Freight_Problem:\n",
      "MAXIMIZE\n",
      "20*x1 + 21*x2 + 22*x3 + 23*x4 + 24*x5 + 0\n",
      "SUBJECT TO\n",
      "_C1: 20 x1 + 21 x2 + 22 x3 + 23 x4 + 24 x5 <= 63\n",
      "\n",
      "VARIABLES\n",
      "x1 = 0 Integer\n",
      "x2 = 0 Integer\n",
      "0 <= x3 <= 2 Integer\n",
      "x4 = 0 Integer\n",
      "x5 = 0 Integer\n",
      "\n"
     ]
    }
   ],
   "source": [
    "for i in nCoils:\n",
    "    i.upBound=i.upBound - value(i)\n",
    "print(Lp_prob)"
   ]
  },
  {
   "cell_type": "code",
   "execution_count": 216,
   "metadata": {},
   "outputs": [
    {
     "name": "stdout",
     "output_type": "stream",
     "text": [
      "Optimal\n",
      "0.0 0.0 2.0 0.0 0.0 44.0\n",
      "Idle freight value in this case =  19.0\n",
      "Cumulative idle freight till now =  138.0\n"
     ]
    }
   ],
   "source": [
    "status = Lp_prob.solve()\n",
    "count=count+1\n",
    "print(LpStatus[status])\n",
    "print(value(x1),value(x2),value(x3),value(x4),value(x5),value(Lp_prob.objective))\n",
    "idle_fr = (63-value(Lp_prob.objective))\n",
    "print('Idle freight value in this case = ',idle_fr)\n",
    "cumulative_idlefr = cumulative_idlefr + idle_fr\n",
    "print('Cumulative idle freight till now = ',cumulative_idlefr)"
   ]
  },
  {
   "cell_type": "code",
   "execution_count": 217,
   "metadata": {},
   "outputs": [
    {
     "name": "stdout",
     "output_type": "stream",
     "text": [
      "Idle_Freight_Problem:\n",
      "MAXIMIZE\n",
      "20*x1 + 21*x2 + 22*x3 + 23*x4 + 24*x5 + 0\n",
      "SUBJECT TO\n",
      "_C1: 20 x1 + 21 x2 + 22 x3 + 23 x4 + 24 x5 <= 63\n",
      "\n",
      "VARIABLES\n",
      "x1 = 0 Integer\n",
      "x2 = 0 Integer\n",
      "x3 = 0 Integer\n",
      "x4 = 0 Integer\n",
      "x5 = 0 Integer\n",
      "\n"
     ]
    }
   ],
   "source": [
    "for i in nCoils:\n",
    "    i.upBound=i.upBound - value(i)\n",
    "print(Lp_prob)"
   ]
  },
  {
   "cell_type": "code",
   "execution_count": 218,
   "metadata": {},
   "outputs": [
    {
     "data": {
      "text/plain": [
       "Text(0.5, 1.0, 'Idle Freight tracker')"
      ]
     },
     "execution_count": 218,
     "metadata": {},
     "output_type": "execute_result"
    },
    {
     "data": {
      "image/png": "[encoded data removed]",
      "text/plain": [
       "<Figure size 432x288 with 1 Axes>"
      ]
     },
     "metadata": {
      "needs_background": "light"
     },
     "output_type": "display_data"
    }
   ],
   "source": [
    "X=range(1,count+1)\n",
    "Y=[0,0,0,0,0,0,0,0,15,15,15,17,19,19,19,19]\n",
    "plt.plot(X,Y)\n",
    "plt.ylabel('Idle freight case wise')\n",
    "plt.title('Idle Freight tracker')"
   ]
  },
  {
   "cell_type": "code",
   "execution_count": 219,
   "metadata": {},
   "outputs": [
    {
     "name": "stdout",
     "output_type": "stream",
     "text": [
      "Idle weight percentage in this case of 63 ton capacity wagons =  13.690476190476192\n"
     ]
    }
   ],
   "source": [
    "# Display idle weight percentage\n",
    "idle_wt_percentage = ((cumulative_idlefr)/(63*count))*100\n",
    "print(\"Idle weight percentage in this case of 63 ton capacity wagons = \",idle_wt_percentage)"
   ]
  },
  {
   "cell_type": "code",
   "execution_count": null,
   "metadata": {},
   "outputs": [],
   "source": []
  }
 ],
 "metadata": {
  "kernelspec": {
   "display_name": "Python 3",
   "language": "python",
   "name": "python3"
  },
  "language_info": {
   "codemirror_mode": {
    "name": "ipython",
    "version": 3
   },
   "file_extension": ".py",
   "mimetype": "text/x-python",
   "name": "python",
   "nbconvert_exporter": "python",
   "pygments_lexer": "ipython3",
   "version": "3.7.4"
  }
 },
 "nbformat": 4,
 "nbformat_minor": 2
}
