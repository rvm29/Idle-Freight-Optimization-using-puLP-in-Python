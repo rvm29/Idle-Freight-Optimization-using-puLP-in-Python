{
 "cells": [
  {
   "cell_type": "code",
   "execution_count": 25,
   "metadata": {},
   "outputs": [],
   "source": [
    "# Import the necessary libraries\n",
    "import pulp as p\n",
    "from pulp import *\n",
    "import pandas as pd\n",
    "import numpy as np\n",
    "import matplotlib.pyplot as plt"
   ]
  },
  {
   "cell_type": "code",
   "execution_count": 50,
   "metadata": {
    "scrolled": true
   },
   "outputs": [],
   "source": [
    "# Create the LP Maximization Problem\n",
    "Lp_prob=LpProblem('Idle Freight Problem',LpMaximize)"
   ]
  },
  {
   "cell_type": "code",
   "execution_count": 27,
   "metadata": {},
   "outputs": [],
   "source": [
    "# Create the Decision Variables\n",
    "x1=LpVariable('x1',lowBound = 0,upBound = 10,cat='Integer')\n",
    "x2=LpVariable('x2',lowBound = 0,upBound = 9,cat='Integer')\n",
    "x3=LpVariable('x3',lowBound = 0,upBound = 8,cat='Integer')\n",
    "x4=LpVariable('x4',lowBound = 0,upBound = 7,cat='Integer')\n",
    "x5=LpVariable('x5',lowBound = 0,upBound = 6,cat='Integer')\n",
    "\n",
    "# Create cumulative idle freight variable\n",
    "cumulative_idlefr=0\n",
    "count=0"
   ]
  },
  {
   "cell_type": "code",
   "execution_count": 28,
   "metadata": {},
   "outputs": [],
   "source": [
    "# Objective Function\n",
    "Lp_prob += 20*x1 + 21*x2 + 22*x3 + 23*x4 + 24*x5"
   ]
  },
  {
   "cell_type": "code",
   "execution_count": 29,
   "metadata": {},
   "outputs": [],
   "source": [
    "# Constraints \n",
    "Lp_prob += 20*x1 + 21*x2 + 22*x3 + 23*x4 + 24*x5 <=69"
   ]
  },
  {
   "cell_type": "code",
   "execution_count": 30,
   "metadata": {},
   "outputs": [
    {
     "name": "stdout",
     "output_type": "stream",
     "text": [
      "Idle_Freight_Problem:\n",
      "MAXIMIZE\n",
      "20*x1 + 21*x2 + 22*x3 + 23*x4 + 24*x5 + 0\n",
      "SUBJECT TO\n",
      "_C1: 20 x1 + 21 x2 + 22 x3 + 23 x4 + 24 x5 <= 69\n",
      "\n",
      "VARIABLES\n",
      "0 <= x1 <= 10 Integer\n",
      "0 <= x2 <= 9 Integer\n",
      "0 <= x3 <= 8 Integer\n",
      "0 <= x4 <= 7 Integer\n",
      "0 <= x5 <= 6 Integer\n",
      "\n"
     ]
    }
   ],
   "source": [
    "# Display the formulated Problem\n",
    "print(Lp_prob)"
   ]
  },
  {
   "cell_type": "code",
   "execution_count": 31,
   "metadata": {},
   "outputs": [],
   "source": [
    "# Try and find acceptable solution values\n",
    "status = Lp_prob.solve()"
   ]
  },
  {
   "cell_type": "code",
   "execution_count": 32,
   "metadata": {},
   "outputs": [
    {
     "name": "stdout",
     "output_type": "stream",
     "text": [
      "Optimal\n"
     ]
    }
   ],
   "source": [
    "# Check status \n",
    "print(LpStatus[status])"
   ]
  },
  {
   "cell_type": "code",
   "execution_count": 33,
   "metadata": {},
   "outputs": [
    {
     "name": "stdout",
     "output_type": "stream",
     "text": [
      "0.0 0.0 0.0 3.0 0.0 69.0\n",
      "Idle freight value in this case =  0.0\n",
      "Cumulative idle freight till now =  0.0\n"
     ]
    }
   ],
   "source": [
    "# Display solution values\n",
    "print(value(x1),value(x2),value(x3),value(x4),value(x5),value(Lp_prob.objective))\n",
    "idle_fr = (69-value(Lp_prob.objective))\n",
    "print('Idle freight value in this case = ',idle_fr)\n",
    "cumulative_idlefr = cumulative_idlefr + idle_fr\n",
    "print('Cumulative idle freight till now = ',cumulative_idlefr)\n",
    "count=count+1"
   ]
  },
  {
   "cell_type": "code",
   "execution_count": 34,
   "metadata": {},
   "outputs": [
    {
     "name": "stdout",
     "output_type": "stream",
     "text": [
      "Idle_Freight_Problem:\n",
      "MAXIMIZE\n",
      "20*x1 + 21*x2 + 22*x3 + 23*x4 + 24*x5 + 0\n",
      "SUBJECT TO\n",
      "_C1: 20 x1 + 21 x2 + 22 x3 + 23 x4 + 24 x5 <= 69\n",
      "\n",
      "VARIABLES\n",
      "0 <= x1 <= 10 Integer\n",
      "0 <= x2 <= 9 Integer\n",
      "0 <= x3 <= 8 Integer\n",
      "0 <= x4 <= 4 Integer\n",
      "0 <= x5 <= 6 Integer\n",
      "\n",
      "Optimal\n",
      "0.0 0.0 0.0 3.0 0.0 69.0\n",
      "Idle freight value in this case =  0.0\n",
      "Cumulative idle freight till now =  0.0\n"
     ]
    }
   ],
   "source": [
    "# Iterate the above process and get optimal solutions for each time\n",
    "nCoils = [x1,x2,x3,x4,x5]\n",
    "for i in nCoils:\n",
    "    i.upBound=i.upBound - value(i)\n",
    "print(Lp_prob)\n",
    "\n",
    "\n",
    "status = Lp_prob.solve()\n",
    "count=count+1\n",
    "print(LpStatus[status])\n",
    "print(value(x1),value(x2),value(x3),value(x4),value(x5),value(Lp_prob.objective))\n",
    "idle_fr = (69-value(Lp_prob.objective))\n",
    "print('Idle freight value in this case = ',idle_fr)\n",
    "cumulative_idlefr = cumulative_idlefr + idle_fr\n",
    "print('Cumulative idle freight till now = ',cumulative_idlefr)"
   ]
  },
  {
   "cell_type": "code",
   "execution_count": 35,
   "metadata": {},
   "outputs": [
    {
     "name": "stdout",
     "output_type": "stream",
     "text": [
      "Idle_Freight_Problem:\n",
      "MAXIMIZE\n",
      "20*x1 + 21*x2 + 22*x3 + 23*x4 + 24*x5 + 0\n",
      "SUBJECT TO\n",
      "_C1: 20 x1 + 21 x2 + 22 x3 + 23 x4 + 24 x5 <= 69\n",
      "\n",
      "VARIABLES\n",
      "0 <= x1 <= 10 Integer\n",
      "0 <= x2 <= 9 Integer\n",
      "0 <= x3 <= 8 Integer\n",
      "0 <= x4 <= 1 Integer\n",
      "0 <= x5 <= 6 Integer\n",
      "\n",
      "Optimal\n",
      "0.0 0.0 1.0 1.0 1.0 69.0\n",
      "Idle freight value in this case =  0.0\n",
      "Cumulative idle freight till now =  0.0\n"
     ]
    }
   ],
   "source": [
    "nCoils = [x1,x2,x3,x4,x5]\n",
    "for i in nCoils:\n",
    "    i.upBound=i.upBound - value(i)\n",
    "print(Lp_prob)\n",
    "\n",
    "\n",
    "status = Lp_prob.solve()\n",
    "count=count+1\n",
    "print(LpStatus[status])\n",
    "print(value(x1),value(x2),value(x3),value(x4),value(x5),value(Lp_prob.objective))\n",
    "idle_fr = (69-value(Lp_prob.objective))\n",
    "print('Idle freight value in this case = ',idle_fr)\n",
    "cumulative_idlefr = cumulative_idlefr + idle_fr\n",
    "print('Cumulative idle freight till now = ',cumulative_idlefr)"
   ]
  },
  {
   "cell_type": "code",
   "execution_count": 36,
   "metadata": {},
   "outputs": [
    {
     "name": "stdout",
     "output_type": "stream",
     "text": [
      "Idle_Freight_Problem:\n",
      "MAXIMIZE\n",
      "20*x1 + 21*x2 + 22*x3 + 23*x4 + 24*x5 + 0\n",
      "SUBJECT TO\n",
      "_C1: 20 x1 + 21 x2 + 22 x3 + 23 x4 + 24 x5 <= 69\n",
      "\n",
      "VARIABLES\n",
      "0 <= x1 <= 10 Integer\n",
      "0 <= x2 <= 9 Integer\n",
      "0 <= x3 <= 7 Integer\n",
      "x4 = 0 Integer\n",
      "0 <= x5 <= 5 Integer\n",
      "\n",
      "Optimal\n",
      "0.0 1.0 0.0 0.0 2.0 69.0\n",
      "Idle freight value in this case =  0.0\n",
      "Cumulative idle freight till now =  0.0\n"
     ]
    }
   ],
   "source": [
    "nCoils = [x1,x2,x3,x4,x5]\n",
    "for i in nCoils:\n",
    "    i.upBound=i.upBound - value(i)\n",
    "print(Lp_prob)\n",
    "\n",
    "\n",
    "status = Lp_prob.solve()\n",
    "count=count+1\n",
    "print(LpStatus[status])\n",
    "print(value(x1),value(x2),value(x3),value(x4),value(x5),value(Lp_prob.objective))\n",
    "idle_fr = (69-value(Lp_prob.objective))\n",
    "print('Idle freight value in this case = ',idle_fr)\n",
    "cumulative_idlefr = cumulative_idlefr + idle_fr\n",
    "print('Cumulative idle freight till now = ',cumulative_idlefr)"
   ]
  },
  {
   "cell_type": "code",
   "execution_count": 37,
   "metadata": {},
   "outputs": [
    {
     "name": "stdout",
     "output_type": "stream",
     "text": [
      "Idle_Freight_Problem:\n",
      "MAXIMIZE\n",
      "20*x1 + 21*x2 + 22*x3 + 23*x4 + 24*x5 + 0\n",
      "SUBJECT TO\n",
      "_C1: 20 x1 + 21 x2 + 22 x3 + 23 x4 + 24 x5 <= 69\n",
      "\n",
      "VARIABLES\n",
      "0 <= x1 <= 10 Integer\n",
      "0 <= x2 <= 8 Integer\n",
      "0 <= x3 <= 7 Integer\n",
      "x4 = 0 Integer\n",
      "0 <= x5 <= 3 Integer\n",
      "\n",
      "Optimal\n",
      "0.0 1.0 0.0 0.0 2.0 69.0\n",
      "Idle freight value in this case =  0.0\n",
      "Cumulative idle freight till now =  0.0\n"
     ]
    }
   ],
   "source": [
    "nCoils = [x1,x2,x3,x4,x5]\n",
    "for i in nCoils:\n",
    "    i.upBound=i.upBound - value(i)\n",
    "print(Lp_prob)\n",
    "\n",
    "\n",
    "status = Lp_prob.solve()\n",
    "count=count+1\n",
    "print(LpStatus[status])\n",
    "print(value(x1),value(x2),value(x3),value(x4),value(x5),value(Lp_prob.objective))\n",
    "idle_fr = (69-value(Lp_prob.objective))\n",
    "print('Idle freight value in this case = ',idle_fr)\n",
    "cumulative_idlefr = cumulative_idlefr + idle_fr\n",
    "print('Cumulative idle freight till now = ',cumulative_idlefr)"
   ]
  },
  {
   "cell_type": "code",
   "execution_count": 38,
   "metadata": {},
   "outputs": [
    {
     "name": "stdout",
     "output_type": "stream",
     "text": [
      "Idle_Freight_Problem:\n",
      "MAXIMIZE\n",
      "20*x1 + 21*x2 + 22*x3 + 23*x4 + 24*x5 + 0\n",
      "SUBJECT TO\n",
      "_C1: 20 x1 + 21 x2 + 22 x3 + 23 x4 + 24 x5 <= 69\n",
      "\n",
      "VARIABLES\n",
      "0 <= x1 <= 10 Integer\n",
      "0 <= x2 <= 7 Integer\n",
      "0 <= x3 <= 7 Integer\n",
      "x4 = 0 Integer\n",
      "0 <= x5 <= 1 Integer\n",
      "\n",
      "Optimal\n",
      "0.0 0.0 2.0 0.0 1.0 68.0\n",
      "Idle freight value in this case =  1.0\n",
      "Cumulative idle freight till now =  1.0\n"
     ]
    }
   ],
   "source": [
    "nCoils = [x1,x2,x3,x4,x5]\n",
    "for i in nCoils:\n",
    "    i.upBound=i.upBound - value(i)\n",
    "print(Lp_prob)\n",
    "\n",
    "\n",
    "status = Lp_prob.solve()\n",
    "count=count+1\n",
    "print(LpStatus[status])\n",
    "print(value(x1),value(x2),value(x3),value(x4),value(x5),value(Lp_prob.objective))\n",
    "idle_fr = (69-value(Lp_prob.objective))\n",
    "print('Idle freight value in this case = ',idle_fr)\n",
    "cumulative_idlefr = cumulative_idlefr + idle_fr\n",
    "print('Cumulative idle freight till now = ',cumulative_idlefr)"
   ]
  },
  {
   "cell_type": "code",
   "execution_count": 39,
   "metadata": {},
   "outputs": [
    {
     "name": "stdout",
     "output_type": "stream",
     "text": [
      "Idle_Freight_Problem:\n",
      "MAXIMIZE\n",
      "20*x1 + 21*x2 + 22*x3 + 23*x4 + 24*x5 + 0\n",
      "SUBJECT TO\n",
      "_C1: 20 x1 + 21 x2 + 22 x3 + 23 x4 + 24 x5 <= 69\n",
      "\n",
      "VARIABLES\n",
      "0 <= x1 <= 10 Integer\n",
      "0 <= x2 <= 7 Integer\n",
      "0 <= x3 <= 5 Integer\n",
      "x4 = 0 Integer\n",
      "x5 = 0 Integer\n",
      "\n",
      "Optimal\n",
      "0.0 0.0 3.0 0.0 0.0 66.0\n",
      "Idle freight value in this case =  3.0\n",
      "Cumulative idle freight till now =  4.0\n"
     ]
    }
   ],
   "source": [
    "nCoils = [x1,x2,x3,x4,x5]\n",
    "for i in nCoils:\n",
    "    i.upBound=i.upBound - value(i)\n",
    "print(Lp_prob)\n",
    "\n",
    "\n",
    "status = Lp_prob.solve()\n",
    "count=count+1\n",
    "print(LpStatus[status])\n",
    "print(value(x1),value(x2),value(x3),value(x4),value(x5),value(Lp_prob.objective))\n",
    "idle_fr = (69-value(Lp_prob.objective))\n",
    "print('Idle freight value in this case = ',idle_fr)\n",
    "cumulative_idlefr = cumulative_idlefr + idle_fr\n",
    "print('Cumulative idle freight till now = ',cumulative_idlefr)"
   ]
  },
  {
   "cell_type": "code",
   "execution_count": 40,
   "metadata": {},
   "outputs": [
    {
     "name": "stdout",
     "output_type": "stream",
     "text": [
      "Idle_Freight_Problem:\n",
      "MAXIMIZE\n",
      "20*x1 + 21*x2 + 22*x3 + 23*x4 + 24*x5 + 0\n",
      "SUBJECT TO\n",
      "_C1: 20 x1 + 21 x2 + 22 x3 + 23 x4 + 24 x5 <= 69\n",
      "\n",
      "VARIABLES\n",
      "0 <= x1 <= 10 Integer\n",
      "0 <= x2 <= 7 Integer\n",
      "0 <= x3 <= 2 Integer\n",
      "x4 = 0 Integer\n",
      "x5 = 0 Integer\n",
      "\n",
      "Optimal\n",
      "0.0 1.0 2.0 0.0 0.0 65.0\n",
      "Idle freight value in this case =  4.0\n",
      "Cumulative idle freight till now =  8.0\n"
     ]
    }
   ],
   "source": [
    "nCoils = [x1,x2,x3,x4,x5]\n",
    "for i in nCoils:\n",
    "    i.upBound=i.upBound - value(i)\n",
    "print(Lp_prob)\n",
    "\n",
    "\n",
    "status = Lp_prob.solve()\n",
    "count=count+1\n",
    "print(LpStatus[status])\n",
    "print(value(x1),value(x2),value(x3),value(x4),value(x5),value(Lp_prob.objective))\n",
    "idle_fr = (69-value(Lp_prob.objective))\n",
    "print('Idle freight value in this case = ',idle_fr)\n",
    "cumulative_idlefr = cumulative_idlefr + idle_fr\n",
    "print('Cumulative idle freight till now = ',cumulative_idlefr)"
   ]
  },
  {
   "cell_type": "code",
   "execution_count": 41,
   "metadata": {},
   "outputs": [
    {
     "name": "stdout",
     "output_type": "stream",
     "text": [
      "Idle_Freight_Problem:\n",
      "MAXIMIZE\n",
      "20*x1 + 21*x2 + 22*x3 + 23*x4 + 24*x5 + 0\n",
      "SUBJECT TO\n",
      "_C1: 20 x1 + 21 x2 + 22 x3 + 23 x4 + 24 x5 <= 69\n",
      "\n",
      "VARIABLES\n",
      "0 <= x1 <= 10 Integer\n",
      "0 <= x2 <= 6 Integer\n",
      "x3 = 0 Integer\n",
      "x4 = 0 Integer\n",
      "x5 = 0 Integer\n",
      "\n",
      "Optimal\n",
      "0.0 3.0 0.0 0.0 0.0 63.0\n",
      "Idle freight value in this case =  6.0\n",
      "Cumulative idle freight till now =  14.0\n"
     ]
    }
   ],
   "source": [
    "nCoils = [x1,x2,x3,x4,x5]\n",
    "for i in nCoils:\n",
    "    i.upBound=i.upBound - value(i)\n",
    "print(Lp_prob)\n",
    "\n",
    "\n",
    "status = Lp_prob.solve()\n",
    "count=count+1\n",
    "print(LpStatus[status])\n",
    "print(value(x1),value(x2),value(x3),value(x4),value(x5),value(Lp_prob.objective))\n",
    "idle_fr = (69-value(Lp_prob.objective))\n",
    "print('Idle freight value in this case = ',idle_fr)\n",
    "cumulative_idlefr = cumulative_idlefr + idle_fr\n",
    "print('Cumulative idle freight till now = ',cumulative_idlefr)"
   ]
  },
  {
   "cell_type": "code",
   "execution_count": 42,
   "metadata": {},
   "outputs": [
    {
     "name": "stdout",
     "output_type": "stream",
     "text": [
      "Idle_Freight_Problem:\n",
      "MAXIMIZE\n",
      "20*x1 + 21*x2 + 22*x3 + 23*x4 + 24*x5 + 0\n",
      "SUBJECT TO\n",
      "_C1: 20 x1 + 21 x2 + 22 x3 + 23 x4 + 24 x5 <= 69\n",
      "\n",
      "VARIABLES\n",
      "0 <= x1 <= 10 Integer\n",
      "0 <= x2 <= 3 Integer\n",
      "x3 = 0 Integer\n",
      "x4 = 0 Integer\n",
      "x5 = 0 Integer\n",
      "\n",
      "Optimal\n",
      "0.0 3.0 0.0 0.0 0.0 63.0\n",
      "Idle freight value in this case =  6.0\n",
      "Cumulative idle freight till now =  20.0\n"
     ]
    }
   ],
   "source": [
    "nCoils = [x1,x2,x3,x4,x5]\n",
    "for i in nCoils:\n",
    "    i.upBound=i.upBound - value(i)\n",
    "print(Lp_prob)\n",
    "\n",
    "\n",
    "status = Lp_prob.solve()\n",
    "count=count+1\n",
    "print(LpStatus[status])\n",
    "print(value(x1),value(x2),value(x3),value(x4),value(x5),value(Lp_prob.objective))\n",
    "idle_fr = (69-value(Lp_prob.objective))\n",
    "print('Idle freight value in this case = ',idle_fr)\n",
    "cumulative_idlefr = cumulative_idlefr + idle_fr\n",
    "print('Cumulative idle freight till now = ',cumulative_idlefr)"
   ]
  },
  {
   "cell_type": "code",
   "execution_count": 43,
   "metadata": {},
   "outputs": [
    {
     "name": "stdout",
     "output_type": "stream",
     "text": [
      "Idle_Freight_Problem:\n",
      "MAXIMIZE\n",
      "20*x1 + 21*x2 + 22*x3 + 23*x4 + 24*x5 + 0\n",
      "SUBJECT TO\n",
      "_C1: 20 x1 + 21 x2 + 22 x3 + 23 x4 + 24 x5 <= 69\n",
      "\n",
      "VARIABLES\n",
      "0 <= x1 <= 10 Integer\n",
      "x2 = 0 Integer\n",
      "x3 = 0 Integer\n",
      "x4 = 0 Integer\n",
      "x5 = 0 Integer\n",
      "\n",
      "Optimal\n",
      "3.0 0.0 0.0 0.0 0.0 60.0\n",
      "Idle freight value in this case =  9.0\n",
      "Cumulative idle freight till now =  29.0\n"
     ]
    }
   ],
   "source": [
    "nCoils = [x1,x2,x3,x4,x5]\n",
    "for i in nCoils:\n",
    "    i.upBound=i.upBound - value(i)\n",
    "print(Lp_prob)\n",
    "\n",
    "\n",
    "status = Lp_prob.solve()\n",
    "count=count+1\n",
    "print(LpStatus[status])\n",
    "print(value(x1),value(x2),value(x3),value(x4),value(x5),value(Lp_prob.objective))\n",
    "idle_fr = (69-value(Lp_prob.objective))\n",
    "print('Idle freight value in this case = ',idle_fr)\n",
    "cumulative_idlefr = cumulative_idlefr + idle_fr\n",
    "print('Cumulative idle freight till now = ',cumulative_idlefr)"
   ]
  },
  {
   "cell_type": "code",
   "execution_count": 44,
   "metadata": {},
   "outputs": [
    {
     "name": "stdout",
     "output_type": "stream",
     "text": [
      "Idle_Freight_Problem:\n",
      "MAXIMIZE\n",
      "20*x1 + 21*x2 + 22*x3 + 23*x4 + 24*x5 + 0\n",
      "SUBJECT TO\n",
      "_C1: 20 x1 + 21 x2 + 22 x3 + 23 x4 + 24 x5 <= 69\n",
      "\n",
      "VARIABLES\n",
      "0 <= x1 <= 7 Integer\n",
      "x2 = 0 Integer\n",
      "x3 = 0 Integer\n",
      "x4 = 0 Integer\n",
      "x5 = 0 Integer\n",
      "\n",
      "Optimal\n",
      "3.0 0.0 0.0 0.0 0.0 60.0\n",
      "Idle freight value in this case =  9.0\n",
      "Cumulative idle freight till now =  38.0\n"
     ]
    }
   ],
   "source": [
    "nCoils = [x1,x2,x3,x4,x5]\n",
    "for i in nCoils:\n",
    "    i.upBound=i.upBound - value(i)\n",
    "print(Lp_prob)\n",
    "\n",
    "\n",
    "status = Lp_prob.solve()\n",
    "count=count+1\n",
    "print(LpStatus[status])\n",
    "print(value(x1),value(x2),value(x3),value(x4),value(x5),value(Lp_prob.objective))\n",
    "idle_fr = (69-value(Lp_prob.objective))\n",
    "print('Idle freight value in this case = ',idle_fr)\n",
    "cumulative_idlefr = cumulative_idlefr + idle_fr\n",
    "print('Cumulative idle freight till now = ',cumulative_idlefr)"
   ]
  },
  {
   "cell_type": "code",
   "execution_count": 45,
   "metadata": {},
   "outputs": [
    {
     "name": "stdout",
     "output_type": "stream",
     "text": [
      "Idle_Freight_Problem:\n",
      "MAXIMIZE\n",
      "20*x1 + 21*x2 + 22*x3 + 23*x4 + 24*x5 + 0\n",
      "SUBJECT TO\n",
      "_C1: 20 x1 + 21 x2 + 22 x3 + 23 x4 + 24 x5 <= 69\n",
      "\n",
      "VARIABLES\n",
      "0 <= x1 <= 4 Integer\n",
      "x2 = 0 Integer\n",
      "x3 = 0 Integer\n",
      "x4 = 0 Integer\n",
      "x5 = 0 Integer\n",
      "\n",
      "Optimal\n",
      "3.0 0.0 0.0 0.0 0.0 60.0\n",
      "Idle freight value in this case =  9.0\n",
      "Cumulative idle freight till now =  47.0\n"
     ]
    }
   ],
   "source": [
    "nCoils = [x1,x2,x3,x4,x5]\n",
    "for i in nCoils:\n",
    "    i.upBound=i.upBound - value(i)\n",
    "print(Lp_prob)\n",
    "\n",
    "\n",
    "status = Lp_prob.solve()\n",
    "count=count+1\n",
    "print(LpStatus[status])\n",
    "print(value(x1),value(x2),value(x3),value(x4),value(x5),value(Lp_prob.objective))\n",
    "idle_fr = (69-value(Lp_prob.objective))\n",
    "print('Idle freight value in this case = ',idle_fr)\n",
    "cumulative_idlefr = cumulative_idlefr + idle_fr\n",
    "print('Cumulative idle freight till now = ',cumulative_idlefr)"
   ]
  },
  {
   "cell_type": "code",
   "execution_count": 46,
   "metadata": {},
   "outputs": [
    {
     "name": "stdout",
     "output_type": "stream",
     "text": [
      "Idle_Freight_Problem:\n",
      "MAXIMIZE\n",
      "20*x1 + 21*x2 + 22*x3 + 23*x4 + 24*x5 + 0\n",
      "SUBJECT TO\n",
      "_C1: 20 x1 + 21 x2 + 22 x3 + 23 x4 + 24 x5 <= 69\n",
      "\n",
      "VARIABLES\n",
      "0 <= x1 <= 1 Integer\n",
      "x2 = 0 Integer\n",
      "x3 = 0 Integer\n",
      "x4 = 0 Integer\n",
      "x5 = 0 Integer\n",
      "\n",
      "Optimal\n",
      "1.0 0.0 0.0 0.0 0.0 20.0\n",
      "Idle freight value in this case =  49.0\n",
      "Cumulative idle freight till now =  96.0\n"
     ]
    }
   ],
   "source": [
    "nCoils = [x1,x2,x3,x4,x5]\n",
    "for i in nCoils:\n",
    "    i.upBound=i.upBound - value(i)\n",
    "print(Lp_prob)\n",
    "\n",
    "\n",
    "status = Lp_prob.solve()\n",
    "count=count+1\n",
    "print(LpStatus[status])\n",
    "print(value(x1),value(x2),value(x3),value(x4),value(x5),value(Lp_prob.objective))\n",
    "idle_fr = (69-value(Lp_prob.objective))\n",
    "print('Idle freight value in this case = ',idle_fr)\n",
    "cumulative_idlefr = cumulative_idlefr + idle_fr\n",
    "print('Cumulative idle freight till now = ',cumulative_idlefr)"
   ]
  },
  {
   "cell_type": "code",
   "execution_count": 47,
   "metadata": {},
   "outputs": [
    {
     "name": "stdout",
     "output_type": "stream",
     "text": [
      "Idle_Freight_Problem:\n",
      "MAXIMIZE\n",
      "20*x1 + 21*x2 + 22*x3 + 23*x4 + 24*x5 + 0\n",
      "SUBJECT TO\n",
      "_C1: 20 x1 + 21 x2 + 22 x3 + 23 x4 + 24 x5 <= 69\n",
      "\n",
      "VARIABLES\n",
      "x1 = 0 Integer\n",
      "x2 = 0 Integer\n",
      "x3 = 0 Integer\n",
      "x4 = 0 Integer\n",
      "x5 = 0 Integer\n",
      "\n"
     ]
    }
   ],
   "source": [
    "nCoils = [x1,x2,x3,x4,x5]\n",
    "for i in nCoils:\n",
    "    i.upBound=i.upBound - value(i)\n",
    "print(Lp_prob)\n",
    "\n",
    "\n",
    "# status = Lp_prob.solve()\n",
    "# count=count+1\n",
    "# print(LpStatus[status])\n",
    "# print(value(x1),value(x2),value(x3),value(x4),value(x5),value(Lp_prob.objective))\n",
    "# idle_fr = (69-value(Lp_prob.objective))\n",
    "# print('Idle freight value in this case = ',idle_fr)\n",
    "# cumulative_idlefr = cumulative_idlefr + idle_fr\n",
    "# print('Cumulative idle freight till now = ',cumulative_idlefr)"
   ]
  },
  {
   "cell_type": "code",
   "execution_count": 48,
   "metadata": {},
   "outputs": [
    {
     "data": {
      "text/plain": [
       "Text(0.5, 1.0, 'Idle Freight tracker')"
      ]
     },
     "execution_count": 48,
     "metadata": {},
     "output_type": "execute_result"
    },
    {
     "data": {
      "image/png": "[encoded data removed]",
      "text/plain": [
       "<Figure size 432x288 with 1 Axes>"
      ]
     },
     "metadata": {
      "needs_background": "light"
     },
     "output_type": "display_data"
    }
   ],
   "source": [
    "X=range(1,count+1)\n",
    "Y=[0,0,0,0,0,1,3,4,6,6,9,9,9,49]\n",
    "plt.plot(X,Y)\n",
    "plt.ylabel('Idle freight case wise')\n",
    "plt.title('Idle Freight tracker')"
   ]
  },
  {
   "cell_type": "code",
   "execution_count": 49,
   "metadata": {},
   "outputs": [
    {
     "name": "stdout",
     "output_type": "stream",
     "text": [
      "Idle weight percentage in this case of 69 ton capacity wagons =  9.937888198757763\n"
     ]
    }
   ],
   "source": [
    "# Display idle weight percentage\n",
    "idle_wt_percentage = ((cumulative_idlefr)/(69*count))*100\n",
    "print(\"Idle weight percentage in this case of 69 ton capacity wagons = \",idle_wt_percentage)"
   ]
  },
  {
   "cell_type": "code",
   "execution_count": null,
   "metadata": {},
   "outputs": [],
   "source": []
  }
 ],
 "metadata": {
  "kernelspec": {
   "display_name": "Python 3",
   "language": "python",
   "name": "python3"
  },
  "language_info": {
   "codemirror_mode": {
    "name": "ipython",
    "version": 3
   },
   "file_extension": ".py",
   "mimetype": "text/x-python",
   "name": "python",
   "nbconvert_exporter": "python",
   "pygments_lexer": "ipython3",
   "version": "3.7.4"
  }
 },
 "nbformat": 4,
 "nbformat_minor": 2
}
